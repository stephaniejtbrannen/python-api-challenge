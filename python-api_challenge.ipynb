{
 "cells": [
  {
   "cell_type": "markdown",
   "metadata": {},
   "source": [
    "# Analysis"
   ]
  },
  {
   "cell_type": "markdown",
   "metadata": {},
   "source": [
    "\n",
    "1. The temperature rises as the cities get closer to the equator.\n",
    "2. The humidity rises as the cities get closer to the equator.\n",
    "3. Wind Speed and Cloudiness are not related to the distance the city is from the equator"
   ]
  },
  {
   "cell_type": "code",
   "execution_count": null,
   "metadata": {},
   "outputs": [],
   "source": [
    "# Dependencies\n",
    "import matplotlib.pyplot as plt\n",
    "from citipy import citipy\n",
    "import openweathermapy.core as owm\n",
    "import pandas as pd\n",
    "import numpy as np\n",
    "from random import randint\n",
    "import urllib as u\n",
    "\n",
    "# import api_key from config file\n",
    "from config import api_key"
   ]
  },
  {
   "cell_type": "code",
   "execution_count": null,
   "metadata": {},
   "outputs": [],
   "source": [
    "# Create a settings object with your API key and preferred units\n",
    "settings = {\"units\": \"imperial\", \"appid\": api_key}"
   ]
  },
  {
   "cell_type": "code",
   "execution_count": null,
   "metadata": {
    "scrolled": false
   },
   "outputs": [],
   "source": [
    "#Generate City list from CitiPy library\n",
    "\n",
    "cities = []\n",
    "temp_data = []\n",
    "counter = 0\n",
    "print('Beginning Data Retrieval')\n",
    "print('------------------------------------')\n",
    "\n",
    "#Create list of 500 cities that have weather data\n",
    "while (len(cities)<501):\n",
    "    lat = randint(-90,90)\n",
    "    lon = randint(-180,180)\n",
    "    city = citipy.nearest_city(lat,lon)\n",
    "    if city.city_name not in cities:\n",
    "        try:\n",
    "            city_data=owm.get_current(city.city_name, **settings)\n",
    "            temp_data.append(city_data)\n",
    "            cities.append(city.city_name)\n",
    "            url = owm.BASE_URL\n",
    "            query = u.parse.urlencode({'appid' : api_key, 'q' : city.city_name})\n",
    "            counter +=1\n",
    "            print(f'Processing Record {counter} | {city.city_name}')\n",
    "            print (url + 'weather?' + query)\n",
    "        except Exception as e:\n",
    "            pass\n",
    "\n",
    "\n",
    "print('------------------------------------')\n",
    "print('Data Retrieval Complete')\n",
    "print('------------------------------------')"
   ]
  },
  {
   "cell_type": "code",
   "execution_count": null,
   "metadata": {},
   "outputs": [],
   "source": [
    "#Create Dataframe for data used in analysis\n",
    "summary = [\"clouds.all\", \"sys.country\", \"dt\", \"main.humidity\", \"coord.lat\", \"coord.lon\", \"main.temp_max\", \"wind.speed\"]\n",
    "column_names = [\"Cloudiness\", \"Country\", \"Date\", \"Humidity\", \"Lat\", \"Lng\", \"Max Temp\", \"Wind Speed\"]\n",
    "data = [response(*summary) for response in temp_data]\n",
    "\n",
    "\n",
    "temp_data = pd.DataFrame(data, index=cities, columns=column_names)\n",
    "temp_data.head()"
   ]
  },
  {
   "cell_type": "code",
   "execution_count": null,
   "metadata": {},
   "outputs": [],
   "source": [
    "#Create scatter plot for Latitude vs Temperature\n",
    "import datetime\n",
    "from matplotlib.dates import DateFormatter\n",
    "temp = temp_data[\"Max Temp\"]\n",
    "latitude = temp_data[\"Lat\"]\n",
    "weather_date = datetime.datetime.today().strftime('%m/%d/%Y')\n",
    "plt.scatter(latitude, temp, edgecolor = \"black\", linewidths=1, marker = 'o', alpha=0.8)\n",
    "plt.title(f'City Latitude vs Max Temperature ({weather_date})')\n",
    "plt.ylabel(\"Max Temperature (F)\")\n",
    "plt.xlabel(\"Latitude\")\n",
    "plt.grid(True)\n",
    "plt.show"
   ]
  },
  {
   "cell_type": "code",
   "execution_count": null,
   "metadata": {},
   "outputs": [],
   "source": [
    "#Create Scatter plot for City Latitude vs City\n",
    "import datetime\n",
    "from matplotlib.dates import DateFormatter\n",
    "humidity = temp_data[\"Humidity\"]\n",
    "latitude = temp_data[\"Lat\"]\n",
    "weather_date = datetime.datetime.today().strftime('%m/%d/%Y')\n",
    "plt.scatter(latitude, humidity, edgecolor = \"black\", linewidths=1, marker = 'o', alpha=0.8)\n",
    "plt.title(f'City Latitude vs Humidity ({weather_date})')\n",
    "plt.ylabel(\"Humidity (%)\")\n",
    "plt.xlabel(\"Latitude\")\n",
    "plt.grid(True)\n",
    "plt.show"
   ]
  },
  {
   "cell_type": "code",
   "execution_count": null,
   "metadata": {},
   "outputs": [],
   "source": [
    "#Create seaborn scatter plot for city latitude vs. cloudiness\n",
    "import seaborn as sns\n",
    "import datetime\n",
    "from matplotlib.dates import DateFormatter\n",
    "\n",
    "sns.set()\n",
    "cloud = temp_data[\"Cloudiness\"]\n",
    "latitude = temp_data[\"Lat\"]\n",
    "weather_date = datetime.datetime.today().strftime('%m/%d/%Y')\n",
    "plt.scatter(latitude, cloud, edgecolor = \"black\", linewidths=1, marker = 'o', alpha=0.8)\n",
    "plt.title(f'City Latitude vs Cloudiness ({weather_date})')\n",
    "plt.ylabel(\"Cloudiness (%)\")\n",
    "plt.xlabel(\"Latitude\")\n",
    "plt.show"
   ]
  },
  {
   "cell_type": "code",
   "execution_count": null,
   "metadata": {},
   "outputs": [],
   "source": [
    "#create seaborn scatter plot for city latitude vs. windspeed\n",
    "import datetime\n",
    "from matplotlib.dates import DateFormatter\n",
    "wind = temp_data[\"Wind Speed\"]\n",
    "latitude = temp_data[\"Lat\"]\n",
    "weather_date = datetime.datetime.today().strftime('%m/%d/%Y')\n",
    "print(weather_date)\n",
    "plt.scatter(latitude, wind, edgecolor = \"black\", linewidths=1, marker = 'o', alpha=0.8)\n",
    "plt.title(f'City Latitude vs Wind Speed ({weather_date})')\n",
    "plt.ylabel(\"Wind Speed (mph)\")\n",
    "plt.xlabel(\"Latitude\")\n",
    "plt.grid(True)\n",
    "plt.show"
   ]
  },
  {
   "cell_type": "code",
   "execution_count": null,
   "metadata": {},
   "outputs": [],
   "source": []
  }
 ],
 "metadata": {
  "kernelspec": {
   "display_name": "Python [default]",
   "language": "python",
   "name": "python3"
  },
  "language_info": {
   "codemirror_mode": {
    "name": "ipython",
    "version": 3
   },
   "file_extension": ".py",
   "mimetype": "text/x-python",
   "name": "python",
   "nbconvert_exporter": "python",
   "pygments_lexer": "ipython3",
   "version": "3.6.4"
  },
  "varInspector": {
   "cols": {
    "lenName": 16,
    "lenType": 16,
    "lenVar": 40
   },
   "kernels_config": {
    "python": {
     "delete_cmd_postfix": "",
     "delete_cmd_prefix": "del ",
     "library": "var_list.py",
     "varRefreshCmd": "print(var_dic_list())"
    },
    "r": {
     "delete_cmd_postfix": ") ",
     "delete_cmd_prefix": "rm(",
     "library": "var_list.r",
     "varRefreshCmd": "cat(var_dic_list()) "
    }
   },
   "types_to_exclude": [
    "module",
    "function",
    "builtin_function_or_method",
    "instance",
    "_Feature"
   ],
   "window_display": false
  }
 },
 "nbformat": 4,
 "nbformat_minor": 2
}
